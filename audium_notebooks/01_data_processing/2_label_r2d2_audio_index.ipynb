{
 "cells": [
  {
   "cell_type": "code",
   "execution_count": null,
   "id": "ae91a8a8-039f-42af-a649-e0f2d376bde1",
   "metadata": {},
   "outputs": [],
   "source": "import pandas as pd\n\n# Load the audio index file\naudio_df = pd.read_csv(\"data/r2d2_audio_index.csv\")  # Update the path if needed\n\n# Load the metadata file containing TB labels\nlabel_df = pd.read_csv('/Users/abelvillcaroque/data/Audium/UCSF_20250508/R2D2 lung sounds metadata_TRAIN_2025.05.08_v3.csv')  # Update the path if needed\n\n# Merge the two DataFrames on patientID (audio_df) and StudyID (label_df)\nmerged_df = audio_df.merge(\n    label_df[['StudyID', 'Microbiologicreferencestandard']],\n    left_on='patientID',\n    right_on='StudyID',\n    how='left'\n)\n\n# Drop the redundant StudyID column and rename the label column\nmerged_df.drop(columns=['StudyID'], inplace=True)\nmerged_df.rename(columns={'Microbiologicreferencestandard': 'label'}, inplace=True)\n\n# Save the final DataFrame to a CSV file\nmerged_df.to_csv(\"../r2d2_audio_index_with_labels.csv\", index=False)\n\nprint(\"✅ File saved as 'r2d2_audio_index_with_labels.csv'\")"
  },
  {
   "cell_type": "code",
   "execution_count": null,
   "id": "176e980d-c7d2-4209-98c1-34727c4d7cfe",
   "metadata": {},
   "outputs": [],
   "source": []
  },
  {
   "cell_type": "code",
   "execution_count": null,
   "id": "28050e8e-bcaa-4477-8475-7366aafc487c",
   "metadata": {},
   "outputs": [],
   "source": []
  },
  {
   "cell_type": "code",
   "execution_count": null,
   "id": "ed4cf1fd-a098-486b-a4c1-9942cc23b97c",
   "metadata": {},
   "outputs": [],
   "source": []
  },
  {
   "cell_type": "code",
   "execution_count": null,
   "id": "d4f92548-8f98-4c0f-8b7d-7b2db2675825",
   "metadata": {},
   "outputs": [],
   "source": []
  },
  {
   "cell_type": "code",
   "execution_count": null,
   "id": "d60e8514-5bd5-4195-a41e-50dc5d79403b",
   "metadata": {},
   "outputs": [],
   "source": []
  },
  {
   "cell_type": "code",
   "execution_count": null,
   "id": "595c20a4-9a12-4afc-b6d6-8e0a8a05307f",
   "metadata": {},
   "outputs": [],
   "source": []
  },
  {
   "cell_type": "code",
   "execution_count": null,
   "id": "1a1acc1c-b145-4b4f-92b1-beec737b039a",
   "metadata": {},
   "outputs": [],
   "source": []
  },
  {
   "cell_type": "code",
   "execution_count": null,
   "id": "161a6403-67c3-4b20-a652-ec7729ca4489",
   "metadata": {},
   "outputs": [],
   "source": []
  },
  {
   "cell_type": "code",
   "execution_count": null,
   "id": "7726e30e-6fdb-4734-8319-6b349e31a479",
   "metadata": {},
   "outputs": [],
   "source": []
  },
  {
   "cell_type": "code",
   "execution_count": null,
   "id": "fb78d04a-b78a-4ab5-a053-29124c6cce68",
   "metadata": {},
   "outputs": [],
   "source": []
  },
  {
   "cell_type": "code",
   "execution_count": null,
   "id": "cb32e054-1bad-459e-b1c4-35146cc04e6a",
   "metadata": {},
   "outputs": [],
   "source": []
  },
  {
   "cell_type": "code",
   "execution_count": null,
   "id": "ecb741e3-a9d8-49b8-b8f5-c24d95b79570",
   "metadata": {},
   "outputs": [],
   "source": [
    "\n"
   ]
  },
  {
   "cell_type": "code",
   "execution_count": null,
   "id": "938ac754-2472-47f6-909a-00de79e58897",
   "metadata": {},
   "outputs": [],
   "source": []
  },
  {
   "cell_type": "code",
   "execution_count": null,
   "id": "619cd212-ec93-4e00-aa03-f3cb5f53bcd0",
   "metadata": {},
   "outputs": [],
   "source": []
  }
 ],
 "metadata": {
  "kernelspec": {
   "display_name": "Python 3 (ipykernel)",
   "language": "python",
   "name": "python3"
  },
  "language_info": {
   "codemirror_mode": {
    "name": "ipython",
    "version": 3
   },
   "file_extension": ".py",
   "mimetype": "text/x-python",
   "name": "python",
   "nbconvert_exporter": "python",
   "pygments_lexer": "ipython3",
   "version": "3.12.2"
  }
 },
 "nbformat": 4,
 "nbformat_minor": 5
}