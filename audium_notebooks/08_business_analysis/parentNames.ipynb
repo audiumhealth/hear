{
 "cells": [
  {
   "cell_type": "code",
   "execution_count": 4,
   "id": "2aa5b13a-5ccb-454d-ad8a-e0c018b024ee",
   "metadata": {},
   "outputs": [
    {
     "name": "stdout",
     "output_type": "stream",
     "text": [
      "✅ Output written to /Users/abelvillcaroque/Desktop/parentNames_output.csv\n"
     ]
    }
   ],
   "source": [
    "import pandas as pd\n",
    "\n",
    "# Step 1: Read the input CSV file\n",
    "input_file = '/Users/abelvillcaroque/Desktop/parentNames.csv'       # replace with your actual file name\n",
    "output_file = '/Users/abelvillcaroque/Desktop/parentNames_output.csv'     # desired output file name\n",
    "\n",
    "df = pd.read_csv(input_file)\n",
    "\n",
    "# Step 2: Define the transformation function\n",
    "def modify_parent_name(name):\n",
    "    if isinstance(name, str) and name.startswith(\"PARENT-\"):\n",
    "        stripped = name.replace(\"PARENT-\", \"\", 1)\n",
    "        return stripped.capitalize()\n",
    "    return name\n",
    "\n",
    "# Step 3: Apply transformation\n",
    "df['parentNameModified'] = df['parentName'].apply(modify_parent_name)\n",
    "\n",
    "# Step 4: Write to output CSV\n",
    "df.to_csv(output_file, index=False)\n",
    "\n",
    "print(f\"✅ Output written to {output_file}\")"
   ]
  },
  {
   "cell_type": "code",
   "execution_count": 5,
   "id": "698b9790-8613-40b7-b8e3-1f6461b4e294",
   "metadata": {},
   "outputs": [
    {
     "name": "stdout",
     "output_type": "stream",
     "text": [
      "✅ Modified data written to '/Users/abelvillcaroque/Desktop/parentNames_output.csv'\n"
     ]
    }
   ],
   "source": [
    "import pandas as pd\n",
    "\n",
    "# === Step 1: Read input CSV ===\n",
    "input_file = '/Users/abelvillcaroque/Desktop/parentNames.csv'       # Replace with your actual input filename\n",
    "output_file = '/Users/abelvillcaroque/Desktop/parentNames_output.csv'     # Desired output file name\n",
    "\n",
    "df = pd.read_csv(input_file)\n",
    "\n",
    "# === Step 2: Transformation function ===\n",
    "def modify_parent_name(name):\n",
    "    if isinstance(name, str):\n",
    "        if name.startswith(\"PARENT-\"):\n",
    "            name = name.replace(\"PARENT-\", \"\", 1)\n",
    "        return name.title()\n",
    "    return name\n",
    "\n",
    "# === Step 3: Apply transformation ===\n",
    "df['parentNameModified'] = df['parentName'].apply(modify_parent_name)\n",
    "\n",
    "# === Step 4: Write to output CSV ===\n",
    "df.to_csv(output_file, index=False)\n",
    "\n",
    "print(f\"✅ Modified data written to '{output_file}'\")"
   ]
  },
  {
   "cell_type": "code",
   "execution_count": 8,
   "id": "beb62b98-72d2-4170-912c-ac1401e5b235",
   "metadata": {},
   "outputs": [
    {
     "name": "stdout",
     "output_type": "stream",
     "text": [
      "✅ Modified data written to '/Users/abelvillcaroque/Desktop/parentnamesingletons_output.csv'\n"
     ]
    }
   ],
   "source": [
    "import pandas as pd\n",
    "\n",
    "# === Step 1: Read input CSV ===\n",
    "input_file = '/Users/abelvillcaroque/Desktop/parentnamesingletons.csv'       # Replace with your actual input filename\n",
    "output_file = '/Users/abelvillcaroque/Desktop/parentnamesingletons_output.csv'     # Desired output file name\n",
    "\n",
    "df = pd.read_csv(input_file)\n",
    "\n",
    "# === Step 2: Transformation function ===\n",
    "def modify_parent_name(name):\n",
    "    if isinstance(name, str):\n",
    "        if name.startswith(\"SINGLETON-\"):\n",
    "            name = name.replace(\"SINGLETON-\", \"\", 1)\n",
    "        return name.title()\n",
    "    return name\n",
    "\n",
    "# === Step 3: Apply transformation ===\n",
    "df['parentNameModified'] = df['parentName'].apply(modify_parent_name)\n",
    "\n",
    "# === Step 4: Write to output CSV ===\n",
    "df.to_csv(output_file, index=False)\n",
    "\n",
    "print(f\"✅ Modified data written to '{output_file}'\")"
   ]
  },
  {
   "cell_type": "code",
   "execution_count": 9,
   "id": "ea06898a-5ca4-4442-b944-cb9bfe71ef34",
   "metadata": {},
   "outputs": [
    {
     "name": "stdout",
     "output_type": "stream",
     "text": [
      "✅ Cluster counts saved to /Users/abelvillcaroque/Desktop/ClusterCounts_Output.csv\n"
     ]
    }
   ],
   "source": [
    "import pandas as pd\n",
    "\n",
    "# Load the CSV file\n",
    "input_file = '/Users/abelvillcaroque/Desktop/20250624_Parent_Child_50kV2_FINAL.csv'  # replace with your path if needed\n",
    "df = pd.read_csv(input_file)\n",
    "\n",
    "# Group by 'New Cluster' and count rows\n",
    "cluster_counts = df.groupby('ParentID').size().reset_index(name='count')\n",
    "\n",
    "# Optional: sort by count descending\n",
    "cluster_counts = cluster_counts.sort_values(by='count', ascending=False)\n",
    "\n",
    "# Save to CSV\n",
    "output_file = '/Users/abelvillcaroque/Desktop/ClusterCounts_Output.csv'\n",
    "cluster_counts.to_csv(output_file, index=False)\n",
    "\n",
    "print(f\"✅ Cluster counts saved to {output_file}\")"
   ]
  },
  {
   "cell_type": "code",
   "execution_count": null,
   "id": "2525a31b-d481-4d33-a38d-58e95e526075",
   "metadata": {},
   "outputs": [],
   "source": []
  }
 ],
 "metadata": {
  "kernelspec": {
   "display_name": "Python 3 (ipykernel)",
   "language": "python",
   "name": "python3"
  },
  "language_info": {
   "codemirror_mode": {
    "name": "ipython",
    "version": 3
   },
   "file_extension": ".py",
   "mimetype": "text/x-python",
   "name": "python",
   "nbconvert_exporter": "python",
   "pygments_lexer": "ipython3",
   "version": "3.12.2"
  }
 },
 "nbformat": 4,
 "nbformat_minor": 5
}
