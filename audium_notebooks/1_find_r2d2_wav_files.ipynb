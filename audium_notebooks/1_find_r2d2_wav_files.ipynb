{
 "cells": [
  {
   "cell_type": "code",
   "execution_count": null,
   "id": "08dab995-40f3-4b81-a920-5eeca7a28334",
   "metadata": {},
   "outputs": [],
   "source": [
    "import os\n",
    "import csv\n",
    "import re\n",
    "\n",
    "def find_r2d2_wav_files(base_dir, output_csv):\n",
    "    pattern = re.compile(r\"R2D2\\d{5}\")\n",
    "    rows = []\n",
    "\n",
    "    for root, _, files in os.walk(base_dir):\n",
    "        for file in files:\n",
    "            if file.endswith(\".wav\"):\n",
    "                full_path = os.path.join(root, file)\n",
    "\n",
    "                # Normalize and split path\n",
    "                parts = os.path.normpath(full_path).split(os.sep)\n",
    "\n",
    "                # Find patientID in the path\n",
    "                try:\n",
    "                    patient_index = next(i for i, part in enumerate(parts) if pattern.fullmatch(part))\n",
    "                    patient_id = parts[patient_index]\n",
    "                except StopIteration:\n",
    "                    continue  # No valid R2D2NNNNN folder in path\n",
    "\n",
    "                # Relative path from patient folder\n",
    "                rel_path = os.path.relpath(full_path, start=os.path.join(*parts[:patient_index + 1]))\n",
    "\n",
    "                # Use basename to ensure filename is valid\n",
    "                filename = os.path.basename(full_path)\n",
    "\n",
    "                rows.append({\n",
    "                    'patientID': patient_id,\n",
    "                    'filename': filename,\n",
    "                    'path': rel_path\n",
    "                })\n",
    "\n",
    "    # Write to CSV safely\n",
    "    with open(output_csv, 'w', newline='', encoding='utf-8') as f:\n",
    "        writer = csv.DictWriter(f, fieldnames=['patientID', 'filename', 'path'], quoting=csv.QUOTE_ALL)\n",
    "        writer.writeheader()\n",
    "        writer.writerows(rows)\n",
    "\n",
    "    print(f\"✅ CSV written to {output_csv} with {len(rows)} valid .wav files.\")\n",
    "\n",
    "# Example usage:\n",
    "find_r2d2_wav_files(\"/Users/abelvillcaroque/data/Audium/UCSF_20250508/R2D2_Train_Data\", \"r2d2_audio_index.csv\")"
   ]
  }
 ],
 "metadata": {
  "kernelspec": {
   "display_name": "Python 3 (ipykernel)",
   "language": "python",
   "name": "python3"
  },
  "language_info": {
   "codemirror_mode": {
    "name": "ipython",
    "version": 3
   },
   "file_extension": ".py",
   "mimetype": "text/x-python",
   "name": "python",
   "nbconvert_exporter": "python",
   "pygments_lexer": "ipython3",
   "version": "3.12.2"
  }
 },
 "nbformat": 4,
 "nbformat_minor": 5
}
